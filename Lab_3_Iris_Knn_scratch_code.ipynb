{
  "nbformat": 4,
  "nbformat_minor": 0,
  "metadata": {
    "colab": {
      "provenance": []
    },
    "kernelspec": {
      "name": "python3",
      "display_name": "Python 3"
    },
    "language_info": {
      "name": "python"
    }
  },
  "cells": [
    {
      "cell_type": "code",
      "source": [
        "import csv\n",
        "import math\n",
        "def loaddat(iris):\n",
        "  datas = []\n",
        "  with open(iris, 'r') as file:\n",
        "    # r indicates read mode\n",
        "    csv_reader = csv.reader(file)\n",
        "    next(csv_reader)\n",
        "    # skips the first row because its just the feature names\n",
        "    for row in csv_reader:\n",
        "      features = [float(row[0]), float(row[1]), float(row[2]), float(row[3])]\n",
        "      label = row[4]\n",
        "      datas.append((features, label))\n",
        "      # ([5.1, 3.5, 1.4, 0.2], 'Setosa') appending in this format tuple\n",
        "  return datas\n"
      ],
      "metadata": {
        "id": "04VJzoCQ94P5"
      },
      "execution_count": null,
      "outputs": []
    },
    {
      "cell_type": "code",
      "source": [
        "def knnmeth(traindata,points,k):\n",
        "  dist=[]\n",
        "  for datas in traindata:\n",
        "    # ([5.1, 3.5, 1.4, 0.2], 'Setosa') datas refers to this kind of format datas[0] firstpart and datas[1] indicates species\n",
        "    dista=eucl_dist(datas,points)\n",
        "    dist.append((dista, datas[1]))\n",
        "  dist.sort()\n",
        "  #sorting the list\n",
        "  classvotes = {}\n",
        "  max_votes = 0\n",
        "  for i in range(k):\n",
        "      label = dist[i][1]\n",
        "      # this takes out the species name from dist (0.0, 'Setosa')\n",
        "      classvotes[label] = classvotes.get(label, 0) + 1\n",
        "      # maps according to the key values pairs to this classvotes dictionary. get function either maps 0 if value not present else increments 1 with respectively\n",
        "      #classvotes['test'] = classvotes.get(label, 0) + 1 just to test the data\n",
        "  predictclass = None\n",
        "  for label, votes in classvotes.items():\n",
        "    # accessing the key value pairs in dictionary\n",
        "      if votes > max_votes:\n",
        "          max_votes = votes\n",
        "          predictedclass = label\n",
        "\n",
        "  return predictedclass"
      ],
      "metadata": {
        "id": "zmHniq5cmqdf"
      },
      "execution_count": null,
      "outputs": []
    },
    {
      "cell_type": "code",
      "source": [
        "def eucl_dist(da, po):\n",
        "  sumsq = 0.0\n",
        "  dc=da[0]\n",
        "  # above code used to remove the species part from data to calculate each variance of list values and add to sum\n",
        "  for i in range(4):\n",
        "      sumsq += (dc[i] - po[i]) ** 2\n",
        "  return math.sqrt(sumsq)"
      ],
      "metadata": {
        "id": "awHHjfYFmv52"
      },
      "execution_count": null,
      "outputs": []
    },
    {
      "cell_type": "code",
      "source": [
        "dataset = loaddat('/content/drive/MyDrive/DSML datasets/iris.csv')\n",
        "# dataset is returned in the format like this ([5.1, 3.5, 1.4, 0.2], 'Setosa')-  tuple format\n",
        "sepal_length=float(input(\"Enter Sepal length- \"))\n",
        "sepal_width=float(input(\"Enter Sepal width- \"))\n",
        "petal_length=float(input(\"Enter Petal length- \"))\n",
        "petal_width=float(input(\"Enter Petal width- \"))\n",
        "datapoints=[sepal_length,sepal_width, petal_length, petal_width]\n",
        "#datapoints = [5.1,3.5,1.4,.2]\n",
        "k=int(input(\"Enter the value for k- \"))\n",
        "prediction = knnmeth(dataset,datapoints,k)\n",
        "print(f\"the predicted class is:{prediction}\")\n"
      ],
      "metadata": {
        "colab": {
          "base_uri": "https://localhost:8080/"
        },
        "id": "mU6vKF1JmyhG",
        "outputId": "90bc9387-1b3e-4c1c-e777-e3fbddefe507"
      },
      "execution_count": null,
      "outputs": [
        {
          "output_type": "stream",
          "name": "stdout",
          "text": [
            "Enter Sepal length- 1.2\n",
            "Enter Sepal width- 2.2\n",
            "Enter Petal length- .2\n",
            "Enter Petal width- 5\n",
            "Enter the value for k- 5\n",
            "the predicted class is:Setosa\n"
          ]
        }
      ]
    },
    {
      "cell_type": "code",
      "source": [],
      "metadata": {
        "id": "yQWxxTc3pJ4I"
      },
      "execution_count": null,
      "outputs": []
    }
  ]
}